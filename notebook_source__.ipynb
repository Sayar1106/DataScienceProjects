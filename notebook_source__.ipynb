{
  "nbformat": 4,
  "nbformat_minor": 0,
  "metadata": {
    "kernelspec": {
      "display_name": "Python 3",
      "language": "python",
      "name": "python3"
    },
    "language_info": {
      "codemirror_mode": {
        "name": "ipython",
        "version": 3
      },
      "file_extension": ".py",
      "mimetype": "text/x-python",
      "name": "python",
      "nbconvert_exporter": "python",
      "pygments_lexer": "ipython3",
      "version": "3.7.6"
    },
    "colab": {
      "name": "notebook_source__.ipynb",
      "provenance": [],
      "include_colab_link": true
    }
  },
  "cells": [
    {
      "cell_type": "markdown",
      "metadata": {
        "id": "view-in-github",
        "colab_type": "text"
      },
      "source": [
        "<a href=\"https://colab.research.google.com/github/Sayar1106/DataScienceProjects/blob/master/notebook_source__.ipynb\" target=\"_parent\"><img src=\"https://colab.research.google.com/assets/colab-badge.svg\" alt=\"Open In Colab\"/></a>"
      ]
    },
    {
      "cell_type": "markdown",
      "metadata": {
        "id": "Hr1WaEvCfQJ0",
        "colab_type": "text"
      },
      "source": [
        "# Classifying images of everyday objects using a neural network\n",
        "\n",
        "The ability to try many different neural network architectures to address a problem is what makes deep learning really powerful, especially compared to shallow learning techniques like linear regression, logistic regression etc. \n",
        "\n",
        "In this assignment, you will:\n",
        "\n",
        "1. Explore the CIFAR10 dataset: https://www.cs.toronto.edu/~kriz/cifar.html\n",
        "2. Set up a training pipeline to train a neural network on a GPU\n",
        "2. Experiment with different network architectures & hyperparameters\n",
        "\n",
        "As you go through this notebook, you will find a **???** in certain places. Your job is to replace the **???** with appropriate code or values, to ensure that the notebook runs properly end-to-end. Try to experiment with different network structures and hypeparameters to get the lowest loss.\n",
        "\n",
        "You might find these notebooks useful for reference, as you work through this notebook:\n",
        "\n",
        "- https://jovian.ml/aakashns/04-feedforward-nn\n",
        "- https://jovian.ml/aakashns/fashion-feedforward-minimal"
      ]
    },
    {
      "cell_type": "code",
      "metadata": {
        "id": "seDv22npfQJ1",
        "colab_type": "code",
        "colab": {},
        "outputId": "afb58a43-98e9-411c-b9ae-20b61d0edd38"
      },
      "source": [
        "# Uncomment and run the commands below if imports fail\n",
        "!conda install numpy pandas pytorch torchvision cpuonly -c pytorch -y\n",
        "!pip install matplotlib --upgrade --quiet"
      ],
      "execution_count": 0,
      "outputs": [
        {
          "output_type": "stream",
          "text": [
            "Collecting package metadata (current_repodata.json): done\n",
            "Solving environment: done\n",
            "\n",
            "\n",
            "==> WARNING: A newer version of conda exists. <==\n",
            "  current version: 4.8.2\n",
            "  latest version: 4.8.3\n",
            "\n",
            "Please update conda by running\n",
            "\n",
            "    $ conda update -n base conda\n",
            "\n",
            "\n",
            "\n",
            "# All requested packages already installed.\n",
            "\n"
          ],
          "name": "stdout"
        }
      ]
    },
    {
      "cell_type": "code",
      "metadata": {
        "id": "pVuGdNMofQJ7",
        "colab_type": "code",
        "colab": {}
      },
      "source": [
        "import torch\n",
        "import torchvision\n",
        "import numpy as np\n",
        "import matplotlib.pyplot as plt\n",
        "import torch.nn as nn\n",
        "import torch.nn.functional as F\n",
        "from torchvision.datasets import CIFAR10\n",
        "from torchvision.transforms import ToTensor\n",
        "from torchvision.utils import make_grid\n",
        "from torch.utils.data.dataloader import DataLoader\n",
        "from torch.utils.data import random_split\n",
        "%matplotlib inline"
      ],
      "execution_count": 0,
      "outputs": []
    },
    {
      "cell_type": "code",
      "metadata": {
        "id": "bp1MMTGwfQJ_",
        "colab_type": "code",
        "colab": {}
      },
      "source": [
        "# Project name used for jovian.commit\n",
        "project_name = '03-cifar10-feedforward'"
      ],
      "execution_count": 0,
      "outputs": []
    },
    {
      "cell_type": "markdown",
      "metadata": {
        "id": "PiL3hMk7fQKE",
        "colab_type": "text"
      },
      "source": [
        "## Exploring the CIFAR10 dataset"
      ]
    },
    {
      "cell_type": "code",
      "metadata": {
        "id": "0x3V-m3GfQKF",
        "colab_type": "code",
        "colab": {},
        "outputId": "3a57fddd-8687-46f1-c276-767820023a2c"
      },
      "source": [
        "dataset = CIFAR10(root='data/', download=True, transform=ToTensor())\n",
        "test_dataset = CIFAR10(root='data/', train=False, transform=ToTensor())"
      ],
      "execution_count": 0,
      "outputs": [
        {
          "output_type": "stream",
          "text": [
            "Files already downloaded and verified\n"
          ],
          "name": "stdout"
        }
      ]
    },
    {
      "cell_type": "markdown",
      "metadata": {
        "id": "K6UfpWotfQKM",
        "colab_type": "text"
      },
      "source": [
        "**Q: How many images does the training dataset contain?**"
      ]
    },
    {
      "cell_type": "code",
      "metadata": {
        "id": "Pod7GvqOfQKN",
        "colab_type": "code",
        "colab": {},
        "outputId": "680f1c3f-689a-4988-a45c-bec88eb2403e"
      },
      "source": [
        "dataset_size = dataset.data.shape[0]\n",
        "dataset_size"
      ],
      "execution_count": 0,
      "outputs": [
        {
          "output_type": "execute_result",
          "data": {
            "text/plain": [
              "50000"
            ]
          },
          "metadata": {
            "tags": []
          },
          "execution_count": 5
        }
      ]
    },
    {
      "cell_type": "markdown",
      "metadata": {
        "id": "B_g-nnngfQKS",
        "colab_type": "text"
      },
      "source": [
        "**Q: How many images does the training dataset contain?**"
      ]
    },
    {
      "cell_type": "code",
      "metadata": {
        "id": "kRPWljf4fQKT",
        "colab_type": "code",
        "colab": {},
        "outputId": "865ab050-3717-4dd9-cd3d-22c64e7a9ba0"
      },
      "source": [
        "test_dataset_size = test_dataset.data.shape[0]\n",
        "test_dataset_size"
      ],
      "execution_count": 0,
      "outputs": [
        {
          "output_type": "execute_result",
          "data": {
            "text/plain": [
              "10000"
            ]
          },
          "metadata": {
            "tags": []
          },
          "execution_count": 6
        }
      ]
    },
    {
      "cell_type": "markdown",
      "metadata": {
        "id": "p63ELelqfQKZ",
        "colab_type": "text"
      },
      "source": [
        "**Q: How many output classes does the dataset contain? Can you list them?**\n",
        "\n",
        "Hint: Use `dataset.classes`"
      ]
    },
    {
      "cell_type": "code",
      "metadata": {
        "id": "Dp2v1VJTfQKa",
        "colab_type": "code",
        "colab": {},
        "outputId": "bf0b0a6b-7a36-4b5c-8bc0-fafdbd444683"
      },
      "source": [
        "classes = dataset.classes\n",
        "classes"
      ],
      "execution_count": 0,
      "outputs": [
        {
          "output_type": "execute_result",
          "data": {
            "text/plain": [
              "['airplane',\n",
              " 'automobile',\n",
              " 'bird',\n",
              " 'cat',\n",
              " 'deer',\n",
              " 'dog',\n",
              " 'frog',\n",
              " 'horse',\n",
              " 'ship',\n",
              " 'truck']"
            ]
          },
          "metadata": {
            "tags": []
          },
          "execution_count": 7
        }
      ]
    },
    {
      "cell_type": "code",
      "metadata": {
        "id": "xmd8Z5eYfQKf",
        "colab_type": "code",
        "colab": {},
        "outputId": "1c1c3519-f215-408f-ca60-111441e04ade"
      },
      "source": [
        "num_classes = len(dataset.classes)\n",
        "num_classes"
      ],
      "execution_count": 0,
      "outputs": [
        {
          "output_type": "execute_result",
          "data": {
            "text/plain": [
              "10"
            ]
          },
          "metadata": {
            "tags": []
          },
          "execution_count": 8
        }
      ]
    },
    {
      "cell_type": "markdown",
      "metadata": {
        "id": "zkIgNbNlfQKi",
        "colab_type": "text"
      },
      "source": [
        "**Q: What is the shape of an image tensor from the dataset?**"
      ]
    },
    {
      "cell_type": "code",
      "metadata": {
        "id": "0ttMW8vOfQKj",
        "colab_type": "code",
        "colab": {},
        "outputId": "51eac530-c995-4d6d-a933-d3f4bf1d55a7"
      },
      "source": [
        "img, label = dataset[0]\n",
        "img_shape = img.shape\n",
        "img_shape"
      ],
      "execution_count": 0,
      "outputs": [
        {
          "output_type": "execute_result",
          "data": {
            "text/plain": [
              "torch.Size([3, 32, 32])"
            ]
          },
          "metadata": {
            "tags": []
          },
          "execution_count": 9
        }
      ]
    },
    {
      "cell_type": "markdown",
      "metadata": {
        "id": "KpsxtANnfQKn",
        "colab_type": "text"
      },
      "source": [
        "Note that this dataset consists of 3-channel color images (RGB). Let us look at a sample image from the dataset. `matplotlib` expects channels to be the last dimension of the image tensors (whereas in PyTorch they are the first dimension), so we'll the `.permute` tensor method to shift channels to the last dimension. Let's also print the label for the image."
      ]
    },
    {
      "cell_type": "code",
      "metadata": {
        "id": "elCEO3zBfQKo",
        "colab_type": "code",
        "colab": {},
        "outputId": "b3931240-7b15-4c6d-eba1-1dae6e3d9d0d"
      },
      "source": [
        "img, label = dataset[0]\n",
        "plt.imshow(img.permute((1, 2, 0)))\n",
        "print('Label (numeric):', label)\n",
        "print('Label (textual):', classes[label])"
      ],
      "execution_count": 0,
      "outputs": [
        {
          "output_type": "stream",
          "text": [
            "Label (numeric): 6\n",
            "Label (textual): frog\n"
          ],
          "name": "stdout"
        },
        {
          "output_type": "display_data",
          "data": {
            "image/png": "[encoded data removed]",
            "text/plain": [
              "<Figure size 432x288 with 1 Axes>"
            ]
          },
          "metadata": {
            "tags": [],
            "needs_background": "light"
          }
        }
      ]
    },
    {
      "cell_type": "markdown",
      "metadata": {
        "id": "IF2X6hNLfQKr",
        "colab_type": "text"
      },
      "source": [
        "**(Optional) Q: Can you determine the number of images belonging to each class?**\n",
        "\n",
        "Hint: Loop through the dataset."
      ]
    },
    {
      "cell_type": "code",
      "metadata": {
        "id": "9SKsW14JfQKr",
        "colab_type": "code",
        "colab": {},
        "outputId": "1027abc3-eede-4f69-e5fa-a6c94ccf2328"
      },
      "source": [
        "dataset.class_to_idx"
      ],
      "execution_count": 0,
      "outputs": [
        {
          "output_type": "execute_result",
          "data": {
            "text/plain": [
              "{'airplane': 0,\n",
              " 'automobile': 1,\n",
              " 'bird': 2,\n",
              " 'cat': 3,\n",
              " 'deer': 4,\n",
              " 'dog': 5,\n",
              " 'frog': 6,\n",
              " 'horse': 7,\n",
              " 'ship': 8,\n",
              " 'truck': 9}"
            ]
          },
          "metadata": {
            "tags": []
          },
          "execution_count": 11
        }
      ]
    },
    {
      "cell_type": "code",
      "metadata": {
        "id": "grUGo09UfQKu",
        "colab_type": "code",
        "colab": {},
        "outputId": "8efe4be8-065e-4729-9831-848d4fa7bbc5"
      },
      "source": [
        "class_dict = {key:0 for key in dataset.classes}\n",
        "reverse_class_dict = {value:key for key, value in dataset.class_to_idx.items()}\n",
        "for i in range(50000):\n",
        "    _, label = dataset[i]\n",
        "    key = reverse_class_dict[label]\n",
        "    class_dict[key] += 1\n",
        "class_dict"
      ],
      "execution_count": 0,
      "outputs": [
        {
          "output_type": "execute_result",
          "data": {
            "text/plain": [
              "{'airplane': 5000,\n",
              " 'automobile': 5000,\n",
              " 'bird': 5000,\n",
              " 'cat': 5000,\n",
              " 'deer': 5000,\n",
              " 'dog': 5000,\n",
              " 'frog': 5000,\n",
              " 'horse': 5000,\n",
              " 'ship': 5000,\n",
              " 'truck': 5000}"
            ]
          },
          "metadata": {
            "tags": []
          },
          "execution_count": 12
        }
      ]
    },
    {
      "cell_type": "code",
      "metadata": {
        "id": "iZ5Wdwl9fQKx",
        "colab_type": "code",
        "colab": {}
      },
      "source": [
        "!pip install jovian --upgrade --quiet"
      ],
      "execution_count": 0,
      "outputs": []
    },
    {
      "cell_type": "code",
      "metadata": {
        "id": "iYO-3KaRfQKz",
        "colab_type": "code",
        "colab": {}
      },
      "source": [
        "import jovian"
      ],
      "execution_count": 0,
      "outputs": []
    },
    {
      "cell_type": "code",
      "metadata": {
        "id": "0F8qTllafQLC",
        "colab_type": "code",
        "colab": {},
        "outputId": "a5e2da78-098c-4896-beb2-b58ae6f7658c"
      },
      "source": [
        "jovian.commit(project=project_name, environment=None)"
      ],
      "execution_count": 0,
      "outputs": [
        {
          "output_type": "display_data",
          "data": {
            "application/javascript": [
              "window.require && require([\"base/js/namespace\"],function(Jupyter){Jupyter.notebook.save_checkpoint()})"
            ],
            "text/plain": [
              "<IPython.core.display.Javascript object>"
            ]
          },
          "metadata": {
            "tags": []
          }
        },
        {
          "output_type": "stream",
          "text": [
            "[jovian] Attempting to save notebook..\u001b[0m\n"
          ],
          "name": "stdout"
        }
      ]
    },
    {
      "cell_type": "markdown",
      "metadata": {
        "id": "36MlTKTvfQLH",
        "colab_type": "text"
      },
      "source": [
        "## Preparing the data for training\n",
        "\n",
        "We'll use a validation set with 5000 images (10% of the dataset). To ensure we get the same validation set each time, we'll set PyTorch's random number generator to a seed value of 43."
      ]
    },
    {
      "cell_type": "code",
      "metadata": {
        "id": "9actwvNrfQLI",
        "colab_type": "code",
        "colab": {}
      },
      "source": [
        "torch.manual_seed(43)\n",
        "val_size = 5000\n",
        "train_size = len(dataset) - val_size"
      ],
      "execution_count": 0,
      "outputs": []
    },
    {
      "cell_type": "markdown",
      "metadata": {
        "id": "r2Ss_LK3fQLQ",
        "colab_type": "text"
      },
      "source": [
        "Let's use the `random_split` method to create the training & validation sets"
      ]
    },
    {
      "cell_type": "code",
      "metadata": {
        "id": "9-XIdj5AfQLR",
        "colab_type": "code",
        "colab": {}
      },
      "source": [
        "train_ds, val_ds = random_split(dataset, [train_size, val_size])\n",
        "len(train_ds), len(val_ds)"
      ],
      "execution_count": 0,
      "outputs": []
    },
    {
      "cell_type": "markdown",
      "metadata": {
        "id": "cKPsAaI_fQLT",
        "colab_type": "text"
      },
      "source": [
        "We can now create data loaders to load the data in batches."
      ]
    },
    {
      "cell_type": "code",
      "metadata": {
        "id": "BZF-lazgfQLU",
        "colab_type": "code",
        "colab": {}
      },
      "source": [
        "batch_size=128"
      ],
      "execution_count": 0,
      "outputs": []
    },
    {
      "cell_type": "code",
      "metadata": {
        "id": "7w8N0UccfQLY",
        "colab_type": "code",
        "colab": {}
      },
      "source": [
        "train_loader = DataLoader(train_ds, batch_size, shuffle=True, num_workers=4, pin_memory=True)\n",
        "val_loader = DataLoader(val_ds, batch_size*2, num_workers=4, pin_memory=True)\n",
        "test_loader = DataLoader(test_dataset, batch_size*2, num_workers=4, pin_memory=True)"
      ],
      "execution_count": 0,
      "outputs": []
    },
    {
      "cell_type": "markdown",
      "metadata": {
        "id": "huIlNlcMfQLe",
        "colab_type": "text"
      },
      "source": [
        "Let's visualize a batch of data using the `make_grid` helper function from Torchvision."
      ]
    },
    {
      "cell_type": "code",
      "metadata": {
        "id": "exBT2fF5fQLf",
        "colab_type": "code",
        "colab": {}
      },
      "source": [
        "for images, _ in train_loader:\n",
        "    print('images.shape:', images.shape)\n",
        "    plt.figure(figsize=(16,8))\n",
        "    plt.axis('off')\n",
        "    plt.imshow(make_grid(images, nrow=16).permute((1, 2, 0)))\n",
        "    break"
      ],
      "execution_count": 0,
      "outputs": []
    },
    {
      "cell_type": "markdown",
      "metadata": {
        "id": "Xkp1gLSUfQLh",
        "colab_type": "text"
      },
      "source": [
        "Can you label all the images by looking at them? Trying to label a random sample of the data manually is a good way to estimate the difficulty of the problem, and identify errors in labeling, if any."
      ]
    },
    {
      "cell_type": "markdown",
      "metadata": {
        "id": "113SefS5fQLi",
        "colab_type": "text"
      },
      "source": [
        "## Base Model class & Training on GPU\n",
        "\n",
        "Let's create a base model class, which contains everything except the model architecture i.e. it wil not contain the `__init__` and `__forward__` methods. We will later extend this class to try out different architectures. In fact, you can extend this model to solve any image classification problem."
      ]
    },
    {
      "cell_type": "code",
      "metadata": {
        "id": "0k_VqUbAfQLi",
        "colab_type": "code",
        "colab": {}
      },
      "source": [
        "def accuracy(outputs, labels):\n",
        "    _, preds = torch.max(outputs, dim=1)\n",
        "    return torch.tensor(torch.sum(preds == labels).item() / len(preds))"
      ],
      "execution_count": 0,
      "outputs": []
    },
    {
      "cell_type": "code",
      "metadata": {
        "id": "YdM8cMM1fQLp",
        "colab_type": "code",
        "colab": {}
      },
      "source": [
        "class ImageClassificationBase(nn.Module):\n",
        "    def training_step(self, batch):\n",
        "        images, labels = batch \n",
        "        out = self(images)                  # Generate predictions\n",
        "        loss = F.cross_entropy(out, labels) # Calculate loss\n",
        "        return loss\n",
        "    \n",
        "    def validation_step(self, batch):\n",
        "        images, labels = batch \n",
        "        out = self(images)                    # Generate predictions\n",
        "        loss = F.cross_entropy(out, labels)   # Calculate loss\n",
        "        acc = accuracy(out, labels)           # Calculate accuracy\n",
        "        return {'val_loss': loss.detach(), 'val_acc': acc}\n",
        "        \n",
        "    def validation_epoch_end(self, outputs):\n",
        "        batch_losses = [x['val_loss'] for x in outputs]\n",
        "        epoch_loss = torch.stack(batch_losses).mean()   # Combine losses\n",
        "        batch_accs = [x['val_acc'] for x in outputs]\n",
        "        epoch_acc = torch.stack(batch_accs).mean()      # Combine accuracies\n",
        "        return {'val_loss': epoch_loss.item(), 'val_acc': epoch_acc.item()}\n",
        "    \n",
        "    def epoch_end(self, epoch, result):\n",
        "        print(\"Epoch [{}], val_loss: {:.4f}, val_acc: {:.4f}\".format(epoch, result['val_loss'], result['val_acc']))"
      ],
      "execution_count": 0,
      "outputs": []
    },
    {
      "cell_type": "markdown",
      "metadata": {
        "id": "Uinez9ZqfQNG",
        "colab_type": "text"
      },
      "source": [
        "We can also use the exact same training loop as before. I hope you're starting to see the benefits of refactoring our code into reusable functions."
      ]
    },
    {
      "cell_type": "code",
      "metadata": {
        "id": "9vLrJlcZfQNH",
        "colab_type": "code",
        "colab": {}
      },
      "source": [
        "def evaluate(model, val_loader):\n",
        "    outputs = [model.validation_step(batch) for batch in val_loader]\n",
        "    return model.validation_epoch_end(outputs)\n",
        "\n",
        "def fit(epochs, lr, model, train_loader, val_loader, opt_func=torch.optim.SGD):\n",
        "    history = []\n",
        "    optimizer = opt_func(model.parameters(), lr)\n",
        "    for epoch in range(epochs):\n",
        "        # Training Phase \n",
        "        for batch in train_loader:\n",
        "            loss = model.training_step(batch)\n",
        "            loss.backward()\n",
        "            optimizer.step()\n",
        "            optimizer.zero_grad()\n",
        "        # Validation phase\n",
        "        result = evaluate(model, val_loader)\n",
        "        model.epoch_end(epoch, result)\n",
        "        history.append(result)\n",
        "    return history"
      ],
      "execution_count": 0,
      "outputs": []
    },
    {
      "cell_type": "markdown",
      "metadata": {
        "id": "jSjlwWVLfQNP",
        "colab_type": "text"
      },
      "source": [
        "Finally, let's also define some utilities for moving out data & labels to the GPU, if one is available."
      ]
    },
    {
      "cell_type": "code",
      "metadata": {
        "id": "iFcfz1H7fQNQ",
        "colab_type": "code",
        "colab": {}
      },
      "source": [
        "torch.cuda.is_available()"
      ],
      "execution_count": 0,
      "outputs": []
    },
    {
      "cell_type": "code",
      "metadata": {
        "id": "-SahaPdWfQNX",
        "colab_type": "code",
        "colab": {}
      },
      "source": [
        "def get_default_device():\n",
        "    \"\"\"Pick GPU if available, else CPU\"\"\"\n",
        "    if torch.cuda.is_available():\n",
        "        return torch.device('cuda')\n",
        "    else:\n",
        "        return torch.device('cpu')"
      ],
      "execution_count": 0,
      "outputs": []
    },
    {
      "cell_type": "code",
      "metadata": {
        "id": "sCc_Wz5GfQNe",
        "colab_type": "code",
        "colab": {}
      },
      "source": [
        "device = get_default_device()\n",
        "device"
      ],
      "execution_count": 0,
      "outputs": []
    },
    {
      "cell_type": "code",
      "metadata": {
        "id": "5cCgSN_5fQNg",
        "colab_type": "code",
        "colab": {}
      },
      "source": [
        "def to_device(data, device):\n",
        "    \"\"\"Move tensor(s) to chosen device\"\"\"\n",
        "    if isinstance(data, (list,tuple)):\n",
        "        return [to_device(x, device) for x in data]\n",
        "    return data.to(device, non_blocking=True)\n",
        "\n",
        "class DeviceDataLoader():\n",
        "    \"\"\"Wrap a dataloader to move data to a device\"\"\"\n",
        "    def __init__(self, dl, device):\n",
        "        self.dl = dl\n",
        "        self.device = device\n",
        "        \n",
        "    def __iter__(self):\n",
        "        \"\"\"Yield a batch of data after moving it to device\"\"\"\n",
        "        for b in self.dl: \n",
        "            yield to_device(b, self.device)\n",
        "\n",
        "    def __len__(self):\n",
        "        \"\"\"Number of batches\"\"\"\n",
        "        return len(self.dl)"
      ],
      "execution_count": 0,
      "outputs": []
    },
    {
      "cell_type": "markdown",
      "metadata": {
        "id": "uHH01iwrfQNn",
        "colab_type": "text"
      },
      "source": [
        "Let us also define a couple of helper functions for plotting the losses & accuracies."
      ]
    },
    {
      "cell_type": "code",
      "metadata": {
        "id": "p9I8drKffQNo",
        "colab_type": "code",
        "colab": {}
      },
      "source": [
        "def plot_losses(history):\n",
        "    losses = [x['val_loss'] for x in history]\n",
        "    plt.plot(losses, '-x')\n",
        "    plt.xlabel('epoch')\n",
        "    plt.ylabel('loss')\n",
        "    plt.title('Loss vs. No. of epochs');"
      ],
      "execution_count": 0,
      "outputs": []
    },
    {
      "cell_type": "code",
      "metadata": {
        "id": "FvPIMgd3fQNs",
        "colab_type": "code",
        "colab": {}
      },
      "source": [
        "def plot_accuracies(history):\n",
        "    accuracies = [x['val_acc'] for x in history]\n",
        "    plt.plot(accuracies, '-x')\n",
        "    plt.xlabel('epoch')\n",
        "    plt.ylabel('accuracy')\n",
        "    plt.title('Accuracy vs. No. of epochs');"
      ],
      "execution_count": 0,
      "outputs": []
    },
    {
      "cell_type": "markdown",
      "metadata": {
        "id": "vYQUoKUkfQNx",
        "colab_type": "text"
      },
      "source": [
        "Let's move our data loaders to the appropriate device."
      ]
    },
    {
      "cell_type": "code",
      "metadata": {
        "id": "AJLWfb5YfQNy",
        "colab_type": "code",
        "colab": {}
      },
      "source": [
        "train_loader = DeviceDataLoader(train_loader, device)\n",
        "val_loader = DeviceDataLoader(val_loader, device)\n",
        "test_loader = DeviceDataLoader(test_loader, device)"
      ],
      "execution_count": 0,
      "outputs": []
    },
    {
      "cell_type": "markdown",
      "metadata": {
        "id": "H_bVSX9sfQN1",
        "colab_type": "text"
      },
      "source": [
        "## Training the model\n",
        "\n",
        "We will make several attempts at training the model. Each time, try a different architecture and a different set of learning rates. Here are some ideas to try:\n",
        "- Increase or decrease the number of hidden layers\n",
        "- Increase of decrease the size of each hidden layer\n",
        "- Try different activation functions\n",
        "- Try training for different number of epochs\n",
        "- Try different learning rates in every epoch\n",
        "\n",
        "What's the highest validation accuracy you can get to? **Can you get to 50% accuracy? What about 60%?**"
      ]
    },
    {
      "cell_type": "code",
      "metadata": {
        "id": "DyEPLXUEfQN2",
        "colab_type": "code",
        "colab": {}
      },
      "source": [
        "input_size = 3*32*32\n",
        "output_size = 10"
      ],
      "execution_count": 0,
      "outputs": []
    },
    {
      "cell_type": "markdown",
      "metadata": {
        "id": "Q4jEODjZfQN5",
        "colab_type": "text"
      },
      "source": [
        "\n",
        "**Q: Extend the `ImageClassificationBase` class to complete the model definition.**\n",
        "\n",
        "Hint: Define the `__init__` and `forward` methods."
      ]
    },
    {
      "cell_type": "code",
      "metadata": {
        "id": "Zq7LENnGfQN5",
        "colab_type": "code",
        "colab": {}
      },
      "source": [
        "class CIFAR10Model(ImageClassificationBase):\n",
        "    def __init__(self):\n",
        "        super().__init__()\n",
        "        self.linear1 = nn.Linear(input_size, 16)\n",
        "        self.linear2 = nn.Linear(16, 32)\n",
        "        self.linear3 = nn.Linear(32, output_size)\n",
        "        \n",
        "    def forward(self, xb):\n",
        "        # Flatten images into vectors\n",
        "        out = xb.view(xb.size(0), -1)\n",
        "        # Apply layers & activation functions\n",
        "        out = self.linear1(out)\n",
        "        out = F.relu(out)\n",
        "        out = self.linear2(out)\n",
        "        out = F.relu(out)\n",
        "        out = self.linear3(out)\n",
        "        \n",
        "        return out"
      ],
      "execution_count": 0,
      "outputs": []
    },
    {
      "cell_type": "markdown",
      "metadata": {
        "id": "D-ZJ9xzUfQOA",
        "colab_type": "text"
      },
      "source": [
        "You can now instantiate the model, and move it the appropriate device."
      ]
    },
    {
      "cell_type": "code",
      "metadata": {
        "id": "LlC50hW0fQOB",
        "colab_type": "code",
        "colab": {}
      },
      "source": [
        "model = to_device(CIFAR10Model(), device)"
      ],
      "execution_count": 0,
      "outputs": []
    },
    {
      "cell_type": "markdown",
      "metadata": {
        "id": "IY9IDbf8fQOF",
        "colab_type": "text"
      },
      "source": [
        "Before you train the model, it's a good idea to check the validation loss & accuracy with the initial set of weights."
      ]
    },
    {
      "cell_type": "code",
      "metadata": {
        "id": "bsNI-BSefQOF",
        "colab_type": "code",
        "colab": {}
      },
      "source": [
        "history = [evaluate(model, val_loader)]\n",
        "history"
      ],
      "execution_count": 0,
      "outputs": []
    },
    {
      "cell_type": "markdown",
      "metadata": {
        "id": "zBGveRU3fQOI",
        "colab_type": "text"
      },
      "source": [
        "**Q: Train the model using the `fit` function to reduce the validation loss & improve accuracy.**\n",
        "\n",
        "Leverage the interactive nature of Jupyter to train the model in multiple phases, adjusting the no. of epochs & learning rate each time based on the result of the previous training phase."
      ]
    },
    {
      "cell_type": "code",
      "metadata": {
        "id": "PVXxjwb3fQOn",
        "colab_type": "code",
        "colab": {}
      },
      "source": [
        "history += fit(5, 0.5, model, train_loader, val_loader)"
      ],
      "execution_count": 0,
      "outputs": []
    },
    {
      "cell_type": "code",
      "metadata": {
        "id": "0j1uMKkJfQPf",
        "colab_type": "code",
        "colab": {}
      },
      "source": [
        "history += fit(???, ???, model, train_loader, val_loader)"
      ],
      "execution_count": 0,
      "outputs": []
    },
    {
      "cell_type": "code",
      "metadata": {
        "id": "1APtAioQfQPu",
        "colab_type": "code",
        "colab": {}
      },
      "source": [
        "history += fit(???, ???, model, train_loader, val_loader)"
      ],
      "execution_count": 0,
      "outputs": []
    },
    {
      "cell_type": "code",
      "metadata": {
        "id": "YVU2TFWmfQP6",
        "colab_type": "code",
        "colab": {}
      },
      "source": [
        "history += fit(???, ???, model, train_loader, val_loader)"
      ],
      "execution_count": 0,
      "outputs": []
    },
    {
      "cell_type": "markdown",
      "metadata": {
        "id": "n82913qhfQQi",
        "colab_type": "text"
      },
      "source": [
        "Plot the losses and the accuracies to check if you're starting to hit the limits of how well your model can perform on this dataset. You can train some more if you can see the scope for further improvement."
      ]
    },
    {
      "cell_type": "code",
      "metadata": {
        "id": "PXdD8S-QfQQk",
        "colab_type": "code",
        "colab": {}
      },
      "source": [
        "plot_losses(history)"
      ],
      "execution_count": 0,
      "outputs": []
    },
    {
      "cell_type": "code",
      "metadata": {
        "id": "M8sTYjfPfQQx",
        "colab_type": "code",
        "colab": {}
      },
      "source": [
        "plot_accuracies(history)"
      ],
      "execution_count": 0,
      "outputs": []
    },
    {
      "cell_type": "markdown",
      "metadata": {
        "id": "e6StJlAMfQQ5",
        "colab_type": "text"
      },
      "source": [
        "Finally, evaluate the model on the test dataset report its final performance."
      ]
    },
    {
      "cell_type": "code",
      "metadata": {
        "id": "tWWLadT0fQQ6",
        "colab_type": "code",
        "colab": {}
      },
      "source": [
        "evaluate(model, test_loader)"
      ],
      "execution_count": 0,
      "outputs": []
    },
    {
      "cell_type": "markdown",
      "metadata": {
        "id": "Y86Q0FovfQQ8",
        "colab_type": "text"
      },
      "source": [
        "Are you happy with the accuracy? Record your results by completing the section below, then you can come back and try a different architecture & hyperparameters."
      ]
    },
    {
      "cell_type": "markdown",
      "metadata": {
        "id": "PZNZNY0afQQ9",
        "colab_type": "text"
      },
      "source": [
        "## Recoding your results\n",
        "\n",
        "As your perform multiple experiments, it's important to record the results in a systematic fashion, so that you can review them later and identify the best approaches that you might want to reproduce or build upon later. \n",
        "\n",
        "**Q: Describe the model's architecture with a short summary.**\n",
        "\n",
        "E.g. `\"3 layers (16,32,10)\"` (16, 32 and 10 represent output sizes of each layer)"
      ]
    },
    {
      "cell_type": "code",
      "metadata": {
        "id": "nHQ7KBfZfQQ-",
        "colab_type": "code",
        "colab": {}
      },
      "source": [
        "arch = ???"
      ],
      "execution_count": 0,
      "outputs": []
    },
    {
      "cell_type": "markdown",
      "metadata": {
        "id": "PjRCYcEhfQRR",
        "colab_type": "text"
      },
      "source": [
        "**Q: Provide the list of learning rates used while training.**"
      ]
    },
    {
      "cell_type": "code",
      "metadata": {
        "id": "lPM3VjNCfQRT",
        "colab_type": "code",
        "colab": {}
      },
      "source": [
        "lrs = [???]"
      ],
      "execution_count": 0,
      "outputs": []
    },
    {
      "cell_type": "markdown",
      "metadata": {
        "id": "RVP0U3gWfQRb",
        "colab_type": "text"
      },
      "source": [
        "**Q: Provide the list of no. of epochs used while training.**"
      ]
    },
    {
      "cell_type": "code",
      "metadata": {
        "id": "ucVgzGa4fQRc",
        "colab_type": "code",
        "colab": {}
      },
      "source": [
        "epochs = [???]"
      ],
      "execution_count": 0,
      "outputs": []
    },
    {
      "cell_type": "markdown",
      "metadata": {
        "id": "IfgGfDDufQRe",
        "colab_type": "text"
      },
      "source": [
        "**Q: What were the final test accuracy & test loss?**"
      ]
    },
    {
      "cell_type": "code",
      "metadata": {
        "id": "HRL1eNuvfQRe",
        "colab_type": "code",
        "colab": {}
      },
      "source": [
        "test_acc = ???\n",
        "test_loss = ???"
      ],
      "execution_count": 0,
      "outputs": []
    },
    {
      "cell_type": "markdown",
      "metadata": {
        "id": "I5YWvs-EfQRt",
        "colab_type": "text"
      },
      "source": [
        "Finally, let's save the trained model weights to disk, so we can use this model later."
      ]
    },
    {
      "cell_type": "code",
      "metadata": {
        "id": "zRHV6lP9fQRz",
        "colab_type": "code",
        "colab": {}
      },
      "source": [
        "torch.save(model.state_dict(), 'cifar10-feedforward.pth')"
      ],
      "execution_count": 0,
      "outputs": []
    },
    {
      "cell_type": "markdown",
      "metadata": {
        "id": "PEcUrRxAfQSS",
        "colab_type": "text"
      },
      "source": [
        "The `jovian` library provides some utility functions to keep your work organized. With every version of your notebok, you can attach some hyperparameters and metrics from your experiment."
      ]
    },
    {
      "cell_type": "code",
      "metadata": {
        "id": "vISYZ6tcfQST",
        "colab_type": "code",
        "colab": {}
      },
      "source": [
        "# Clear previously recorded hyperparams & metrics\n",
        "jovian.reset()"
      ],
      "execution_count": 0,
      "outputs": []
    },
    {
      "cell_type": "code",
      "metadata": {
        "id": "CtxERHuyfQSY",
        "colab_type": "code",
        "colab": {}
      },
      "source": [
        "jovian.log_hyperparams(arch=arch, \n",
        "                       lrs=lrs, \n",
        "                       epochs=epochs)"
      ],
      "execution_count": 0,
      "outputs": []
    },
    {
      "cell_type": "code",
      "metadata": {
        "id": "AtFTrmqlfQSo",
        "colab_type": "code",
        "colab": {}
      },
      "source": [
        "jovian.log_metrics(test_loss=test_loss, test_acc=test_acc)"
      ],
      "execution_count": 0,
      "outputs": []
    },
    {
      "cell_type": "markdown",
      "metadata": {
        "id": "QTUqpHQZfQS1",
        "colab_type": "text"
      },
      "source": [
        "Finally, we can commit the notebook to Jovian, attaching the hypeparameters, metrics and the trained model weights."
      ]
    },
    {
      "cell_type": "code",
      "metadata": {
        "id": "BLaBypHQfQS1",
        "colab_type": "code",
        "colab": {}
      },
      "source": [
        "jovian.commit(project=project_name, outputs=['cifar10-feedforward.pth'], environment=None)"
      ],
      "execution_count": 0,
      "outputs": []
    },
    {
      "cell_type": "markdown",
      "metadata": {
        "id": "vX9JwrdnfQTH",
        "colab_type": "text"
      },
      "source": [
        "Once committed, you can find the recorded metrics & hyperprameters in the \"Records\" tab on Jovian. You can find the saved model weights in the \"Files\" tab.\n",
        "\n",
        "## Continued experimentation\n",
        "\n",
        "Now go back up to the **\"Training the model\"** section, and try another network architecture with a different set of hyperparameters. As you try different experiments, you will start to build an undestanding of how the different architectures & hyperparameters affect the final result. Don't worry if you can't get to very high accuracy, we'll make some fundamental changes to our model in the next lecture.\n",
        "\n",
        "Once you have tried multiple experiments, you can compare your results using the **\"Compare\"** button on Jovian.\n",
        "\n",
        "![compare-example](https://i.imgur.com/ltdYnSN.png)"
      ]
    },
    {
      "cell_type": "markdown",
      "metadata": {
        "id": "Lp3DtHmVfQTI",
        "colab_type": "text"
      },
      "source": [
        "## (Optional) Write a blog post\n",
        "\n",
        "Writing a blog post is the best way to further improve your understanding of deep learning & model training, because it forces you to articulate your thoughts clearly. Here'are some ideas for a blog post:\n",
        "- Report the results given by different architectures on the CIFAR10 dataset\n",
        "- Apply this training pipeline to a different dataset (it doesn't have to be images, or a classification problem) \n",
        "- Improve upon your model from Assignment 2 using a feedfoward neural network, and write a sequel to your previous blog post\n",
        "- Share some Strategies for picking good hyperparameters for deep learning\n",
        "- Present a summary of the different steps involved in training a deep learning model with PyTorch\n",
        "- Implement the same model using a different deep learning library e.g. Keras ( https://keras.io/ ), and present a comparision.\n"
      ]
    },
    {
      "cell_type": "code",
      "metadata": {
        "id": "V9n_TTVyfQTI",
        "colab_type": "code",
        "colab": {}
      },
      "source": [
        ""
      ],
      "execution_count": 0,
      "outputs": []
    }
  ]
}